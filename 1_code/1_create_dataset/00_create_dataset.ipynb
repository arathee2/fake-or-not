{
 "cells": [
  {
   "cell_type": "markdown",
   "metadata": {},
   "source": [
    "## Creating a dataset from original images"
   ]
  },
  {
   "cell_type": "markdown",
   "metadata": {},
   "source": [
    "### import libraries"
   ]
  },
  {
   "cell_type": "code",
   "execution_count": 47,
   "metadata": {},
   "outputs": [],
   "source": [
    "import pandas as pd\n",
    "import numpy as np\n",
    "\n",
    "import os\n",
    "import glob\n",
    "import shutil"
   ]
  },
  {
   "cell_type": "markdown",
   "metadata": {},
   "source": [
    "### get absolute paths to images\n",
    "\n",
    "* <font color = red>__You need to chage the path below to access original true and fake images.__</font>"
   ]
  },
  {
   "cell_type": "code",
   "execution_count": 2,
   "metadata": {},
   "outputs": [],
   "source": [
    "path_to_original = \"/Volumes/shttksm_exhdd\""
   ]
  },
  {
   "cell_type": "code",
   "execution_count": 3,
   "metadata": {},
   "outputs": [
    {
     "name": "stdout",
     "output_type": "stream",
     "text": [
      "\u001b[1m\u001b[36mBackups.backupdb\u001b[m\u001b[m \u001b[1m\u001b[36mphotoshops\u001b[m\u001b[m       \u001b[1m\u001b[36mtmp\u001b[m\u001b[m\r\n",
      "\u001b[1m\u001b[36moriginals\u001b[m\u001b[m        \u001b[31mtmbootpicker.efi\u001b[m\u001b[m\r\n"
     ]
    }
   ],
   "source": [
    "!ls /Volumes/shttksm_exhdd"
   ]
  },
  {
   "cell_type": "code",
   "execution_count": 18,
   "metadata": {},
   "outputs": [],
   "source": [
    "fnames_true_jpgs = glob.glob(path_to_original + \"/originals/*.jpg\")"
   ]
  },
  {
   "cell_type": "markdown",
   "metadata": {},
   "source": [
    "### glance original data\n",
    "* Most images are saved as jpg format. (10616/11124)\n",
    "* Each true image has some fake images that created from it. # fake images = 75661"
   ]
  },
  {
   "cell_type": "code",
   "execution_count": 19,
   "metadata": {},
   "outputs": [
    {
     "data": {
      "text/plain": [
       "10616"
      ]
     },
     "execution_count": 19,
     "metadata": {},
     "output_type": "execute_result"
    }
   ],
   "source": [
    "len(fnames_true_jpgs)"
   ]
  },
  {
   "cell_type": "code",
   "execution_count": 20,
   "metadata": {},
   "outputs": [],
   "source": [
    "fnames_fake_jpgs = glob.glob(path_to_original + \"/photoshops/*/*.jpg\")"
   ]
  },
  {
   "cell_type": "code",
   "execution_count": 22,
   "metadata": {},
   "outputs": [
    {
     "data": {
      "text/plain": [
       "75661"
      ]
     },
     "execution_count": 22,
     "metadata": {},
     "output_type": "execute_result"
    }
   ],
   "source": [
    "len(fnames_fake_jpgs)"
   ]
  },
  {
   "cell_type": "markdown",
   "metadata": {},
   "source": [
    "## choose one fake image for each true images and rename files\n",
    "* make a new directory, \"dataset\", and put one true image and one selected fake image associated with true one into it.\n",
    "* We can know images' labels that mean whether true or fake based on its file name."
   ]
  },
  {
   "cell_type": "markdown",
   "metadata": {},
   "source": [
    "* <font color = red>__You need to chage the path below to create \"dataset\" directory.__</font>"
   ]
  },
  {
   "cell_type": "code",
   "execution_count": 53,
   "metadata": {},
   "outputs": [],
   "source": [
    "path_to_dataset = \"/Volumes/shttksm_exhdd/dataset\"\n",
    "\n",
    "!rm -rf /Volumes/shttksm_exhdd/dataset\n",
    "!mkdir /Volumes/shttksm_exhdd/dataset"
   ]
  },
  {
   "cell_type": "code",
   "execution_count": 54,
   "metadata": {},
   "outputs": [],
   "source": [
    "# for each true image\n",
    "for ftj in fnames_true_jpgs:\n",
    "    # capture its basename without extension to access its photoshopped images.\n",
    "    tbasename = os.path.basename(ftj).split(\".\")[0]\n",
    "\n",
    "    # get absolute paths of fake images\n",
    "    fnames_fake_jpgs = glob.glob(f\"{path_to_original}/photoshops/{tbasename}/*\")\n",
    "    \n",
    "    # Select one file from fake images. This time, I just select one based on the alphabetical order of fake image filename.\n",
    "    ffj = fnames_fake_jpgs[0]\n",
    "    \n",
    "    # copy the true and fake images into \"dataset\" directory.\n",
    "    shutil.copy(ftj, f\"{path_to_dataset}/{tbasename}_true.jpg\")\n",
    "    shutil.copy(ffj, f\"{path_to_dataset}/{tbasename}_fake.jpg\")    "
   ]
  },
  {
   "cell_type": "code",
   "execution_count": null,
   "metadata": {},
   "outputs": [],
   "source": []
  }
 ],
 "metadata": {
  "kernelspec": {
   "display_name": "Python 3",
   "language": "python",
   "name": "python3"
  },
  "language_info": {
   "codemirror_mode": {
    "name": "ipython",
    "version": 3
   },
   "file_extension": ".py",
   "mimetype": "text/x-python",
   "name": "python",
   "nbconvert_exporter": "python",
   "pygments_lexer": "ipython3",
   "version": "3.7.5"
  }
 },
 "nbformat": 4,
 "nbformat_minor": 2
}
