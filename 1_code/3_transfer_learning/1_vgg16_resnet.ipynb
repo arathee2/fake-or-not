{
  "nbformat": 4,
  "nbformat_minor": 0,
  "metadata": {
    "colab": {
      "name": "vgg16_learning.ipynb",
      "provenance": [],
      "collapsed_sections": [],
      "machine_shape": "hm"
    },
    "kernelspec": {
      "name": "python3",
      "display_name": "Python 3"
    },
    "accelerator": "GPU"
  },
  "cells": [
    {
      "cell_type": "code",
      "metadata": {
        "id": "mCm0AvWyv2Qy",
        "colab_type": "code",
        "outputId": "cc86d1e4-4195-4ef8-903f-e6302e74fa7f",
        "colab": {
          "base_uri": "https://localhost:8080/",
          "height": 156
        }
      },
      "source": [
        "# Google Drive Connection\n",
        "from google.colab import drive\n",
        "drive.mount('/content/drive')\n",
        "\n",
        "!ls '/content/drive/My Drive/fake-or-not/data/'"
      ],
      "execution_count": 1,
      "outputs": [
        {
          "output_type": "stream",
          "text": [
            "Go to this URL in a browser: https://accounts.google.com/o/oauth2/auth?client_id=947318989803-6bn6qk8qdgf4n4g3pfee6491hc0brc4i.apps.googleusercontent.com&redirect_uri=urn%3aietf%3awg%3aoauth%3a2.0%3aoob&response_type=code&scope=email%20https%3a%2f%2fwww.googleapis.com%2fauth%2fdocs.test%20https%3a%2f%2fwww.googleapis.com%2fauth%2fdrive%20https%3a%2f%2fwww.googleapis.com%2fauth%2fdrive.photos.readonly%20https%3a%2f%2fwww.googleapis.com%2fauth%2fpeopleapi.readonly\n",
            "\n",
            "Enter your authorization code:\n",
            "··········\n",
            "Mounted at /content/drive\n",
            "dataset\t\t     dataset_correct_ManTraNet.csv\n",
            "dataset_correct.csv  output_vggnet16_cnn.csv\n"
          ],
          "name": "stdout"
        }
      ]
    },
    {
      "cell_type": "code",
      "metadata": {
        "id": "hntaxhiMwdrJ",
        "colab_type": "code",
        "outputId": "a41e8637-b5bd-4ba2-a6fc-7b19603f7755",
        "colab": {
          "base_uri": "https://localhost:8080/",
          "height": 68
        }
      },
      "source": [
        "import os\n",
        "import urllib.request\n",
        "import numpy as np\n",
        "import pandas as pd\n",
        "import matplotlib.pyplot as plt\n",
        "import matplotlib.image as mpimg\n",
        "import seaborn as sns\n",
        "\n",
        "# Image processing and ELA conversion\n",
        "import PIL\n",
        "from PIL import Image\n",
        "from pylab import *\n",
        "import re\n",
        "from PIL import Image, ImageChops, ImageEnhance\n",
        "from PIL import ImageFile\n",
        "ImageFile.LOAD_TRUNCATED_IMAGES = True\n",
        "\n",
        "# General ML models\n",
        "from sklearn.model_selection import train_test_split\n",
        "from sklearn import metrics\n",
        "import itertools\n",
        "# from pandas_ml import ConfusionMatrix\n",
        "\n",
        "from keras import backend as K\n",
        "import time\n",
        "import matplotlib.pyplot as plt\n",
        "import numpy as np\n",
        "\n",
        "import keras\n",
        "from keras.engine.input_layer import Input\n",
        "from keras.models import Sequential\n",
        "from keras.layers.convolutional import Convolution2D, MaxPooling2D\n",
        "from keras.layers import Activation, Flatten, Dense, Dropout\n",
        "from keras.layers.normalization import BatchNormalization\n",
        "from keras.utils import np_utils\n",
        "from keras.layers import Dense, Conv2D, BatchNormalization, Activation\n",
        "from keras.layers import AveragePooling2D, Input, Flatten\n",
        "from keras.optimizers import Adam, SGD\n",
        "from keras.callbacks import ModelCheckpoint, LearningRateScheduler\n",
        "from keras.callbacks import ReduceLROnPlateau\n",
        "from keras.preprocessing.image import ImageDataGenerator\n",
        "from keras.regularizers import l2\n",
        "from keras import backend as K\n",
        "from keras.models import Model\n",
        "from keras.datasets import cifar10\n",
        "from keras.models import Sequential\n",
        "from keras.layers import Dense, Dropout, Activation, Flatten, Add, BatchNormalization\n",
        "from keras.layers import Convolution2D, MaxPooling2D\n",
        "from keras.utils import np_utils\n",
        "from keras.applications.vgg16 import VGG16, preprocess_input, decode_predictions\n",
        "from keras.preprocessing import image\n",
        "import cv2\n",
        "from skimage import io\n",
        "import tensorflow as tf"
      ],
      "execution_count": 2,
      "outputs": [
        {
          "output_type": "stream",
          "text": [
            "/usr/local/lib/python3.6/dist-packages/statsmodels/tools/_testing.py:19: FutureWarning: pandas.util.testing is deprecated. Use the functions in the public API at pandas.testing instead.\n",
            "  import pandas.util.testing as tm\n",
            "Using TensorFlow backend.\n"
          ],
          "name": "stderr"
        }
      ]
    },
    {
      "cell_type": "code",
      "metadata": {
        "id": "ZTTbanMKEMXT",
        "colab_type": "code",
        "outputId": "0be4bf41-bfbc-4c9a-a0fc-7b38ccbb7123",
        "colab": {
          "base_uri": "https://localhost:8080/",
          "height": 334
        }
      },
      "source": [
        "def get_imlist(path):\n",
        "    '''\n",
        "    Input:\n",
        "        path: path to the folder containing all the images to work with\n",
        "    Output:\n",
        "        list of all image file names inside the path\n",
        "    '''\n",
        "    return [os.path.join(path,f) for f in os.listdir(path) if f.endswith('.jpg') or f.endswith('.png')]\n",
        "\n",
        "path = '/content/drive/My Drive/fake-or-not/data/dataset/dataset/'\n",
        "image_names = get_imlist(path)\n",
        "image_names.sort()"
      ],
      "execution_count": 4,
      "outputs": [
        {
          "output_type": "error",
          "ename": "OSError",
          "evalue": "ignored",
          "traceback": [
            "\u001b[0;31m---------------------------------------------------------------------------\u001b[0m",
            "\u001b[0;31mOSError\u001b[0m                                   Traceback (most recent call last)",
            "\u001b[0;32m<ipython-input-4-8f8976238ecf>\u001b[0m in \u001b[0;36m<module>\u001b[0;34m()\u001b[0m\n\u001b[1;32m      9\u001b[0m \u001b[0;34m\u001b[0m\u001b[0m\n\u001b[1;32m     10\u001b[0m \u001b[0mpath\u001b[0m \u001b[0;34m=\u001b[0m \u001b[0;34m'/content/drive/My Drive/fake-or-not/data/dataset/dataset/'\u001b[0m\u001b[0;34m\u001b[0m\u001b[0;34m\u001b[0m\u001b[0m\n\u001b[0;32m---> 11\u001b[0;31m \u001b[0mimage_names\u001b[0m \u001b[0;34m=\u001b[0m \u001b[0mget_imlist\u001b[0m\u001b[0;34m(\u001b[0m\u001b[0mpath\u001b[0m\u001b[0;34m)\u001b[0m\u001b[0;34m\u001b[0m\u001b[0;34m\u001b[0m\u001b[0m\n\u001b[0m\u001b[1;32m     12\u001b[0m \u001b[0mimage_names\u001b[0m\u001b[0;34m.\u001b[0m\u001b[0msort\u001b[0m\u001b[0;34m(\u001b[0m\u001b[0;34m)\u001b[0m\u001b[0;34m\u001b[0m\u001b[0;34m\u001b[0m\u001b[0m\n",
            "\u001b[0;32m<ipython-input-4-8f8976238ecf>\u001b[0m in \u001b[0;36mget_imlist\u001b[0;34m(path)\u001b[0m\n\u001b[1;32m      6\u001b[0m         \u001b[0mlist\u001b[0m \u001b[0mof\u001b[0m \u001b[0mall\u001b[0m \u001b[0mimage\u001b[0m \u001b[0mfile\u001b[0m \u001b[0mnames\u001b[0m \u001b[0minside\u001b[0m \u001b[0mthe\u001b[0m \u001b[0mpath\u001b[0m\u001b[0;34m\u001b[0m\u001b[0;34m\u001b[0m\u001b[0m\n\u001b[1;32m      7\u001b[0m     '''\n\u001b[0;32m----> 8\u001b[0;31m     \u001b[0;32mreturn\u001b[0m \u001b[0;34m[\u001b[0m\u001b[0mos\u001b[0m\u001b[0;34m.\u001b[0m\u001b[0mpath\u001b[0m\u001b[0;34m.\u001b[0m\u001b[0mjoin\u001b[0m\u001b[0;34m(\u001b[0m\u001b[0mpath\u001b[0m\u001b[0;34m,\u001b[0m\u001b[0mf\u001b[0m\u001b[0;34m)\u001b[0m \u001b[0;32mfor\u001b[0m \u001b[0mf\u001b[0m \u001b[0;32min\u001b[0m \u001b[0mos\u001b[0m\u001b[0;34m.\u001b[0m\u001b[0mlistdir\u001b[0m\u001b[0;34m(\u001b[0m\u001b[0mpath\u001b[0m\u001b[0;34m)\u001b[0m \u001b[0;32mif\u001b[0m \u001b[0mf\u001b[0m\u001b[0;34m.\u001b[0m\u001b[0mendswith\u001b[0m\u001b[0;34m(\u001b[0m\u001b[0;34m'.jpg'\u001b[0m\u001b[0;34m)\u001b[0m \u001b[0;32mor\u001b[0m \u001b[0mf\u001b[0m\u001b[0;34m.\u001b[0m\u001b[0mendswith\u001b[0m\u001b[0;34m(\u001b[0m\u001b[0;34m'.png'\u001b[0m\u001b[0;34m)\u001b[0m\u001b[0;34m]\u001b[0m\u001b[0;34m\u001b[0m\u001b[0;34m\u001b[0m\u001b[0m\n\u001b[0m\u001b[1;32m      9\u001b[0m \u001b[0;34m\u001b[0m\u001b[0m\n\u001b[1;32m     10\u001b[0m \u001b[0mpath\u001b[0m \u001b[0;34m=\u001b[0m \u001b[0;34m'/content/drive/My Drive/fake-or-not/data/dataset/dataset/'\u001b[0m\u001b[0;34m\u001b[0m\u001b[0;34m\u001b[0m\u001b[0m\n",
            "\u001b[0;31mOSError\u001b[0m: [Errno 5] Input/output error: '/content/drive/My Drive/fake-or-not/data/dataset/dataset/'"
          ]
        }
      ]
    },
    {
      "cell_type": "code",
      "metadata": {
        "id": "now3j1AlhqLU",
        "colab_type": "code",
        "colab": {}
      },
      "source": [
        "image_names[:7]"
      ],
      "execution_count": 0,
      "outputs": []
    },
    {
      "cell_type": "code",
      "metadata": {
        "id": "wv-PLSPz8M2x",
        "colab_type": "code",
        "outputId": "a98fbc35-414a-4afb-9064-f5191c9e9630",
        "colab": {
          "base_uri": "https://localhost:8080/",
          "height": 232
        }
      },
      "source": [
        "# create dataframe with image filenames and labels\n",
        "dataset = pd.DataFrame(image_names, columns = ['file_name'])\n",
        "\n",
        "# assign class according to file name\n",
        "dataset['fake'] = 0\n",
        "\n",
        "dataset['fake'] = np.where(dataset['file_name'].str.endswith('_fake.jpg'), 1, dataset['fake'])\n",
        "\n",
        "# check the balance of the dataset\n",
        "pd.crosstab(index = dataset['fake'], columns = 'Freq')/len(image_names)"
      ],
      "execution_count": 0,
      "outputs": [
        {
          "output_type": "error",
          "ename": "NameError",
          "evalue": "ignored",
          "traceback": [
            "\u001b[0;31m---------------------------------------------------------------------------\u001b[0m",
            "\u001b[0;31mNameError\u001b[0m                                 Traceback (most recent call last)",
            "\u001b[0;32m<ipython-input-8-b32c6fa13fec>\u001b[0m in \u001b[0;36m<module>\u001b[0;34m()\u001b[0m\n\u001b[0;32m----> 1\u001b[0;31m \u001b[0mdataset\u001b[0m \u001b[0;34m=\u001b[0m \u001b[0mpd\u001b[0m\u001b[0;34m.\u001b[0m\u001b[0mDataFrame\u001b[0m\u001b[0;34m(\u001b[0m\u001b[0mimage_names\u001b[0m\u001b[0;34m,\u001b[0m \u001b[0mcolumns\u001b[0m \u001b[0;34m=\u001b[0m \u001b[0;34m[\u001b[0m\u001b[0;34m'file_name'\u001b[0m\u001b[0;34m]\u001b[0m\u001b[0;34m)\u001b[0m\u001b[0;34m\u001b[0m\u001b[0;34m\u001b[0m\u001b[0m\n\u001b[0m\u001b[1;32m      2\u001b[0m \u001b[0;34m\u001b[0m\u001b[0m\n\u001b[1;32m      3\u001b[0m \u001b[0;31m# assign class according to file name\u001b[0m\u001b[0;34m\u001b[0m\u001b[0;34m\u001b[0m\u001b[0;34m\u001b[0m\u001b[0m\n\u001b[1;32m      4\u001b[0m \u001b[0mdataset\u001b[0m\u001b[0;34m[\u001b[0m\u001b[0;34m'fake'\u001b[0m\u001b[0;34m]\u001b[0m \u001b[0;34m=\u001b[0m \u001b[0;36m0\u001b[0m\u001b[0;34m\u001b[0m\u001b[0;34m\u001b[0m\u001b[0m\n\u001b[1;32m      5\u001b[0m \u001b[0;34m\u001b[0m\u001b[0m\n",
            "\u001b[0;31mNameError\u001b[0m: name 'image_names' is not defined"
          ]
        }
      ]
    },
    {
      "cell_type": "code",
      "metadata": {
        "id": "lJYxW6dz9bdu",
        "colab_type": "code",
        "colab": {}
      },
      "source": [
        "def image2array(filename, size=(128, 128)):\n",
        "    '''\n",
        "    Convert an image to numpy array.\n",
        "    Input:\n",
        "        filename: name of input image file.\n",
        "        size: size of output image.\n",
        "    Outpiut:\n",
        "        image: numpy array\n",
        "    '''\n",
        "    exceptions_occurred = 0\n",
        "    try:\n",
        "        image = Image.open(filename).convert('RGB')\n",
        "        image = image.resize(size, PIL.Image.NEAREST)\n",
        "    except Image.UnidentifiedImageError or OSError:\n",
        "        exceptions_occurred += 1\n",
        "        pass\n",
        "\n",
        "    return np.array(image)"
      ],
      "execution_count": 0,
      "outputs": []
    },
    {
      "cell_type": "code",
      "metadata": {
        "id": "0CT5rex88NI6",
        "colab_type": "code",
        "colab": {}
      },
      "source": [
        "# create X and Y for training deep neural network\n",
        "X = []  # images\n",
        "Y = []  # labels\n",
        "\n",
        "# height, width and number of channels in each image\n",
        "width = 128\n",
        "height = 128\n",
        "n_channels = 3\n",
        "new_index = []\n",
        "filname_loaded = []\n",
        "for index, row in dataset.iterrows():\n",
        "    try:\n",
        "        X.append(image2array(row[0], (width, height))/ 255.0)\n",
        "        Y.append(row[1])\n",
        "        filename_loaded.append(row[0])\n",
        "        new_index.append(index)\n",
        "    except:\n",
        "        print(\"Image {} dropped. Could not be processed.\".format(re.sub('/content/drive/My Drive/fake-or-not/data/dataset/', '', dataset['file_name'][index])))\n",
        "        pass\n",
        "\n",
        "    if index % 1000 == 0:\n",
        "\n",
        "        print(index, \"images parsed\")\n",
        "\n",
        "# reshpe X\n",
        "X = np.array(X)\n",
        "X = X.reshape(-1, width, height, n_channels)\n",
        "\n",
        "# one-hot encode Y\n",
        "Y = tf.keras.utils.to_categorical(Y, 2)\n",
        "\n",
        "# discard images from the original dataset that were unable to load\n",
        "dataset_correct = dataset[dataset.index.isin(new_index)]\n",
        "dataset_correct = dataset_correct.reset_index(drop=True)\n",
        "\n",
        "# print dimensions\n",
        "print(X.shape)\n",
        "print(Y.shape)"
      ],
      "execution_count": 0,
      "outputs": []
    },
    {
      "cell_type": "code",
      "metadata": {
        "id": "hIpMR88vxPUp",
        "colab_type": "code",
        "outputId": "65b53cfc-6ed8-4a47-f034-a094d5f42458",
        "colab": {
          "base_uri": "https://localhost:8080/",
          "height": 198
        }
      },
      "source": [
        "# divide data into train, validation and test sets\n",
        "test_size = int(X.shape[0]*0.15)\n",
        "X_train, X_test, Y_train, Y_test = train_test_split(X, Y, test_size=test_size, random_state=1, shuffle=False)\n",
        "X_train, X_validation, Y_train, Y_validation = train_test_split(X_train, Y_train, test_size=test_size, random_state=1, shuffle=False)"
      ],
      "execution_count": 0,
      "outputs": [
        {
          "output_type": "error",
          "ename": "NameError",
          "evalue": "ignored",
          "traceback": [
            "\u001b[0;31m---------------------------------------------------------------------------\u001b[0m",
            "\u001b[0;31mNameError\u001b[0m                                 Traceback (most recent call last)",
            "\u001b[0;32m<ipython-input-8-de76638967a9>\u001b[0m in \u001b[0;36m<module>\u001b[0;34m()\u001b[0m\n\u001b[0;32m----> 1\u001b[0;31m \u001b[0mtest_size\u001b[0m \u001b[0;34m=\u001b[0m \u001b[0mint\u001b[0m\u001b[0;34m(\u001b[0m\u001b[0mX\u001b[0m\u001b[0;34m.\u001b[0m\u001b[0mshape\u001b[0m\u001b[0;34m[\u001b[0m\u001b[0;36m0\u001b[0m\u001b[0;34m]\u001b[0m\u001b[0;34m*\u001b[0m\u001b[0;36m0.15\u001b[0m\u001b[0;34m)\u001b[0m\u001b[0;34m\u001b[0m\u001b[0;34m\u001b[0m\u001b[0m\n\u001b[0m\u001b[1;32m      2\u001b[0m \u001b[0mX_train\u001b[0m\u001b[0;34m,\u001b[0m \u001b[0mX_test\u001b[0m\u001b[0;34m,\u001b[0m \u001b[0mY_train\u001b[0m\u001b[0;34m,\u001b[0m \u001b[0mY_test\u001b[0m \u001b[0;34m=\u001b[0m \u001b[0mtrain_test_split\u001b[0m\u001b[0;34m(\u001b[0m\u001b[0mX\u001b[0m\u001b[0;34m,\u001b[0m \u001b[0mY\u001b[0m\u001b[0;34m,\u001b[0m \u001b[0mtest_size\u001b[0m\u001b[0;34m=\u001b[0m\u001b[0mtest_size\u001b[0m\u001b[0;34m,\u001b[0m \u001b[0mrandom_state\u001b[0m\u001b[0;34m=\u001b[0m\u001b[0;36m1\u001b[0m\u001b[0;34m,\u001b[0m \u001b[0mshuffle\u001b[0m\u001b[0;34m=\u001b[0m\u001b[0;32mFalse\u001b[0m\u001b[0;34m)\u001b[0m\u001b[0;34m\u001b[0m\u001b[0;34m\u001b[0m\u001b[0m\n\u001b[1;32m      3\u001b[0m \u001b[0mX_train\u001b[0m\u001b[0;34m,\u001b[0m \u001b[0mX_validation\u001b[0m\u001b[0;34m,\u001b[0m \u001b[0mY_train\u001b[0m\u001b[0;34m,\u001b[0m \u001b[0mY_validation\u001b[0m \u001b[0;34m=\u001b[0m \u001b[0mtrain_test_split\u001b[0m\u001b[0;34m(\u001b[0m\u001b[0mX_train\u001b[0m\u001b[0;34m,\u001b[0m \u001b[0mY_train\u001b[0m\u001b[0;34m,\u001b[0m \u001b[0mtest_size\u001b[0m\u001b[0;34m=\u001b[0m\u001b[0mtest_size\u001b[0m\u001b[0;34m,\u001b[0m \u001b[0mrandom_state\u001b[0m\u001b[0;34m=\u001b[0m\u001b[0;36m1\u001b[0m\u001b[0;34m,\u001b[0m \u001b[0mshuffle\u001b[0m\u001b[0;34m=\u001b[0m\u001b[0;32mFalse\u001b[0m\u001b[0;34m)\u001b[0m\u001b[0;34m\u001b[0m\u001b[0;34m\u001b[0m\u001b[0m\n",
            "\u001b[0;31mNameError\u001b[0m: name 'X' is not defined"
          ]
        }
      ]
    },
    {
      "cell_type": "code",
      "metadata": {
        "id": "DWNTa0aMNMPr",
        "colab_type": "code",
        "outputId": "926c39cd-0502-4ff1-cd94-d81a77965090",
        "colab": {
          "base_uri": "https://localhost:8080/",
          "height": 119
        }
      },
      "source": [
        "print(X_train.shape)\n",
        "print(Y_train.shape)\n",
        "\n",
        "print(X_validation.shape)\n",
        "print(Y_validation.shape)\n",
        "\n",
        "print (X_test.shape)\n",
        "print(Y_test.shape)\n"
      ],
      "execution_count": 0,
      "outputs": [
        {
          "output_type": "stream",
          "text": [
            "(14836, 128, 128, 3)\n",
            "(14836, 2)\n",
            "(3178, 128, 128, 3)\n",
            "(3178, 2)\n",
            "(3178, 128, 128, 3)\n",
            "(3178, 2)\n"
          ],
          "name": "stdout"
        }
      ]
    },
    {
      "cell_type": "code",
      "metadata": {
        "id": "5959HkAafBJp",
        "colab_type": "code",
        "outputId": "fc077a5e-f48f-4007-c7a5-416523439c1b",
        "colab": {
          "base_uri": "https://localhost:8080/",
          "height": 493
        }
      },
      "source": [
        "'''\n",
        "VGG Net\n",
        "'''\n",
        "\n",
        "# load and compile model\n",
        "from keras.applications.vgg16 import preprocess_input\n",
        "from keras.applications.vgg16 import decode_predictions\n",
        "from keras.applications.vgg16 import VGG16\n",
        "from keras.models import Model\n",
        "from pickle import dump\n",
        "from keras.layers import GlobalAveragePooling2D\n",
        "from keras import regularizers\n",
        "\n",
        "# release GPU memory\n",
        "tf.keras.backend.clear_session()\n",
        "\n",
        "# model properties\n",
        "model_type = 'VGG16'\n",
        "model_save_dir = os.path.join(os.getcwd(), 'saved_models')\n",
        "model_name = '%s_model.{epoch:03d}.h5' % model_type\n",
        "if not os.path.isdir(model_save_dir):\n",
        "    os.makedirs(model_save_dir)\n",
        "filepath = os.path.join(model_save_dir, model_name)\n",
        "\n",
        "# create callbacks for model saving and for learning rate adjustment.\n",
        "checkpoint = ModelCheckpoint(filepath=filepath,\n",
        "                             monitor='val_acc',\n",
        "                             verbose=1,\n",
        "                             save_best_only=True)\n",
        "\n",
        "lr_reducer = ReduceLROnPlateau(factor=np.sqrt(0.1),\n",
        "                               cooldown=0,\n",
        "                               patience=5,\n",
        "                               min_lr=0.5e-6)\n",
        "\n",
        "callbacks = [checkpoint, lr_reducer]\n",
        "\n",
        "\n",
        "# load model\n",
        "input_shape = X.shape[1:]\n",
        "n_classes = Y.shape[1]\n",
        "\n",
        "width = 128\n",
        "height = 128\n",
        "vgg_model = VGG16(include_top=False, input_shape=(width, height, 3))\n",
        "\n",
        "for layer in vgg_model.layers:\n",
        "    layer.trainable = False\n",
        "\n",
        "for layer in vgg_model.layers:\n",
        "    layer.trainable = True\n",
        "\n",
        "model = Sequential()\n",
        "\n",
        "model.add(vgg_model)\n",
        "model.add(GlobalAveragePooling2D())\n",
        "\n",
        "model.add(Dense(128, activation='relu', kernel_regularizer=keras.regularizers.l2(0.001)))\n",
        "model.add(BatchNormalization())\n",
        "\n",
        "model.add(Dense(128, activation='relu', kernel_regularizer=keras.regularizers.l2(0.001)))\n",
        "model.add(BatchNormalization())\n",
        "\n",
        "model.add(Dense(64, activation='relu', kernel_regularizer=keras.regularizers.l2(0.001)))\n",
        "model.add(BatchNormalization())\n",
        "\n",
        "model.add(Dense(2, activation='softmax'))\n",
        "\n",
        "# compile model\n",
        "model.compile(loss='categorical_crossentropy',\n",
        "              optimizer=Adam(0.001),\n",
        "              metrics=['accuracy'])\n",
        "\n",
        "model.summary()"
      ],
      "execution_count": 0,
      "outputs": [
        {
          "output_type": "stream",
          "text": [
            "Downloading data from https://github.com/fchollet/deep-learning-models/releases/download/v0.1/vgg16_weights_tf_dim_ordering_tf_kernels_notop.h5\n",
            "58892288/58889256 [==============================] - 1s 0us/step\n",
            "Model: \"sequential_1\"\n",
            "_________________________________________________________________\n",
            "Layer (type)                 Output Shape              Param #   \n",
            "=================================================================\n",
            "vgg16 (Model)                (None, 4, 4, 512)         14714688  \n",
            "_________________________________________________________________\n",
            "global_average_pooling2d_1 ( (None, 512)               0         \n",
            "_________________________________________________________________\n",
            "dense_1 (Dense)              (None, 128)               65664     \n",
            "_________________________________________________________________\n",
            "batch_normalization_1 (Batch (None, 128)               512       \n",
            "_________________________________________________________________\n",
            "dense_2 (Dense)              (None, 128)               16512     \n",
            "_________________________________________________________________\n",
            "batch_normalization_2 (Batch (None, 128)               512       \n",
            "_________________________________________________________________\n",
            "dense_3 (Dense)              (None, 64)                8256      \n",
            "_________________________________________________________________\n",
            "batch_normalization_3 (Batch (None, 64)                256       \n",
            "_________________________________________________________________\n",
            "dense_4 (Dense)              (None, 2)                 130       \n",
            "=================================================================\n",
            "Total params: 14,806,530\n",
            "Trainable params: 14,805,890\n",
            "Non-trainable params: 640\n",
            "_________________________________________________________________\n"
          ],
          "name": "stdout"
        }
      ]
    },
    {
      "cell_type": "code",
      "metadata": {
        "id": "TO8ilhrDgZsK",
        "colab_type": "code",
        "outputId": "a2c4107b-6699-409c-d8e4-43de6f634972",
        "colab": {
          "base_uri": "https://localhost:8080/",
          "height": 1000
        }
      },
      "source": [
        "# fit model\n",
        "n_samples = X_train.shape[0]\n",
        "batch_size = 64\n",
        "epochs = 125\n",
        "history = model.fit(X_train[:n_samples], Y_train[:n_samples],\n",
        "              batch_size=batch_size,\n",
        "              epochs=epochs,\n",
        "              validation_data=(X_validation, Y_validation),\n",
        "              shuffle=True,\n",
        "              verbose=1,\n",
        "              callbacks=callbacks)"
      ],
      "execution_count": 0,
      "outputs": [
        {
          "output_type": "stream",
          "text": [
            "Train on 14836 samples, validate on 3178 samples\n",
            "Epoch 1/125\n",
            "14836/14836 [==============================] - 51s 3ms/step - loss: 1.0255 - accuracy: 0.5075 - val_loss: 1.2390 - val_accuracy: 0.5009\n",
            "Epoch 2/125\n",
            "   64/14836 [..............................] - ETA: 36s - loss: 0.9403 - accuracy: 0.4531"
          ],
          "name": "stdout"
        },
        {
          "output_type": "stream",
          "text": [
            "/usr/local/lib/python3.6/dist-packages/keras/callbacks/callbacks.py:707: RuntimeWarning: Can save best model only with val_acc available, skipping.\n",
            "  'skipping.' % (self.monitor), RuntimeWarning)\n"
          ],
          "name": "stderr"
        },
        {
          "output_type": "stream",
          "text": [
            "14836/14836 [==============================] - 40s 3ms/step - loss: 0.9057 - accuracy: 0.5154 - val_loss: 1.6204 - val_accuracy: 0.5138\n",
            "Epoch 3/125\n",
            "14836/14836 [==============================] - 40s 3ms/step - loss: 0.8532 - accuracy: 0.5307 - val_loss: 2.4666 - val_accuracy: 0.5000\n",
            "Epoch 4/125\n",
            "14836/14836 [==============================] - 40s 3ms/step - loss: 0.8204 - accuracy: 0.5374 - val_loss: 0.9345 - val_accuracy: 0.5057\n",
            "Epoch 5/125\n",
            "14836/14836 [==============================] - 40s 3ms/step - loss: 0.7929 - accuracy: 0.5497 - val_loss: 1.1505 - val_accuracy: 0.5016\n",
            "Epoch 6/125\n",
            "14836/14836 [==============================] - 40s 3ms/step - loss: 0.7730 - accuracy: 0.5599 - val_loss: 1.0055 - val_accuracy: 0.5000\n",
            "Epoch 7/125\n",
            "14836/14836 [==============================] - 40s 3ms/step - loss: 0.7590 - accuracy: 0.5589 - val_loss: 0.9263 - val_accuracy: 0.4924\n",
            "Epoch 8/125\n",
            "14836/14836 [==============================] - 40s 3ms/step - loss: 0.7525 - accuracy: 0.5450 - val_loss: 0.8254 - val_accuracy: 0.5755\n",
            "Epoch 9/125\n",
            "14836/14836 [==============================] - 40s 3ms/step - loss: 0.7390 - accuracy: 0.5570 - val_loss: 0.8699 - val_accuracy: 0.5000\n",
            "Epoch 10/125\n",
            "14836/14836 [==============================] - 40s 3ms/step - loss: 0.7316 - accuracy: 0.5570 - val_loss: 0.7803 - val_accuracy: 0.5793\n",
            "Epoch 11/125\n",
            "14836/14836 [==============================] - 40s 3ms/step - loss: 0.7234 - accuracy: 0.5646 - val_loss: 0.9157 - val_accuracy: 0.5831\n",
            "Epoch 12/125\n",
            "14836/14836 [==============================] - 40s 3ms/step - loss: 0.7181 - accuracy: 0.5682 - val_loss: 0.7280 - val_accuracy: 0.5157\n",
            "Epoch 13/125\n",
            "14836/14836 [==============================] - 40s 3ms/step - loss: 0.7100 - accuracy: 0.5703 - val_loss: 0.7356 - val_accuracy: 0.5183\n",
            "Epoch 14/125\n",
            "14836/14836 [==============================] - 40s 3ms/step - loss: 0.7079 - accuracy: 0.5657 - val_loss: 0.7291 - val_accuracy: 0.5862\n",
            "Epoch 15/125\n",
            "14836/14836 [==============================] - 40s 3ms/step - loss: 0.7026 - accuracy: 0.5739 - val_loss: 0.7912 - val_accuracy: 0.5346\n",
            "Epoch 16/125\n",
            "14836/14836 [==============================] - 40s 3ms/step - loss: 0.6995 - accuracy: 0.5721 - val_loss: 0.7634 - val_accuracy: 0.5066\n",
            "Epoch 17/125\n",
            "14836/14836 [==============================] - 40s 3ms/step - loss: 0.6996 - accuracy: 0.5628 - val_loss: 0.7299 - val_accuracy: 0.5868\n",
            "Epoch 18/125\n",
            "14836/14836 [==============================] - 40s 3ms/step - loss: 0.6907 - accuracy: 0.5795 - val_loss: 0.8272 - val_accuracy: 0.4843\n",
            "Epoch 19/125\n",
            "14836/14836 [==============================] - 40s 3ms/step - loss: 0.6867 - accuracy: 0.5827 - val_loss: 0.7850 - val_accuracy: 0.5167\n",
            "Epoch 20/125\n",
            "14836/14836 [==============================] - 40s 3ms/step - loss: 0.6855 - accuracy: 0.5868 - val_loss: 0.6989 - val_accuracy: 0.5551\n",
            "Epoch 21/125\n",
            "14836/14836 [==============================] - 40s 3ms/step - loss: 0.6848 - accuracy: 0.5852 - val_loss: 0.7690 - val_accuracy: 0.5236\n",
            "Epoch 22/125\n",
            "14836/14836 [==============================] - 40s 3ms/step - loss: 0.6824 - accuracy: 0.5905 - val_loss: 0.6803 - val_accuracy: 0.5702\n",
            "Epoch 23/125\n",
            "14836/14836 [==============================] - 40s 3ms/step - loss: 0.6818 - accuracy: 0.5894 - val_loss: 0.6843 - val_accuracy: 0.5928\n",
            "Epoch 24/125\n",
            "14836/14836 [==============================] - 40s 3ms/step - loss: 0.6791 - accuracy: 0.5913 - val_loss: 0.7496 - val_accuracy: 0.5031\n",
            "Epoch 25/125\n",
            "14836/14836 [==============================] - 40s 3ms/step - loss: 0.6781 - accuracy: 0.5884 - val_loss: 0.7047 - val_accuracy: 0.6161\n",
            "Epoch 26/125\n",
            "14836/14836 [==============================] - 40s 3ms/step - loss: 0.6766 - accuracy: 0.5901 - val_loss: 0.8033 - val_accuracy: 0.5324\n",
            "Epoch 27/125\n",
            "14836/14836 [==============================] - 40s 3ms/step - loss: 0.6785 - accuracy: 0.5893 - val_loss: 0.8156 - val_accuracy: 0.5944\n",
            "Epoch 28/125\n",
            "14836/14836 [==============================] - 40s 3ms/step - loss: 0.6722 - accuracy: 0.5954 - val_loss: 0.6987 - val_accuracy: 0.6060\n",
            "Epoch 29/125\n",
            "14836/14836 [==============================] - 40s 3ms/step - loss: 0.6707 - accuracy: 0.5975 - val_loss: 0.6838 - val_accuracy: 0.6004\n",
            "Epoch 30/125\n",
            "14836/14836 [==============================] - 40s 3ms/step - loss: 0.6700 - accuracy: 0.5942 - val_loss: 8.5601 - val_accuracy: 0.6130\n",
            "Epoch 31/125\n",
            "14836/14836 [==============================] - 40s 3ms/step - loss: 0.6687 - accuracy: 0.5990 - val_loss: 0.6864 - val_accuracy: 0.5677\n",
            "Epoch 32/125\n",
            "14836/14836 [==============================] - 40s 3ms/step - loss: 0.6685 - accuracy: 0.6002 - val_loss: 0.7518 - val_accuracy: 0.5554\n",
            "Epoch 33/125\n",
            "14836/14836 [==============================] - 40s 3ms/step - loss: 0.6661 - accuracy: 0.6031 - val_loss: 0.6844 - val_accuracy: 0.6086\n",
            "Epoch 34/125\n",
            "14836/14836 [==============================] - 40s 3ms/step - loss: 0.6649 - accuracy: 0.6035 - val_loss: 0.6867 - val_accuracy: 0.5928\n",
            "Epoch 35/125\n",
            "14836/14836 [==============================] - 40s 3ms/step - loss: 0.6644 - accuracy: 0.6032 - val_loss: 0.6858 - val_accuracy: 0.6133\n",
            "Epoch 36/125\n",
            "14836/14836 [==============================] - 40s 3ms/step - loss: 0.6635 - accuracy: 0.6027 - val_loss: 0.6774 - val_accuracy: 0.6183\n",
            "Epoch 37/125\n",
            "14836/14836 [==============================] - 40s 3ms/step - loss: 0.6632 - accuracy: 0.6052 - val_loss: 0.6855 - val_accuracy: 0.6177\n",
            "Epoch 38/125\n",
            "14836/14836 [==============================] - 40s 3ms/step - loss: 0.6631 - accuracy: 0.6031 - val_loss: 0.6835 - val_accuracy: 0.5979\n",
            "Epoch 39/125\n",
            "14836/14836 [==============================] - 40s 3ms/step - loss: 0.6623 - accuracy: 0.6055 - val_loss: 0.6890 - val_accuracy: 0.5903\n",
            "Epoch 40/125\n",
            "14836/14836 [==============================] - 40s 3ms/step - loss: 0.6625 - accuracy: 0.6064 - val_loss: 0.6827 - val_accuracy: 0.6256\n",
            "Epoch 41/125\n",
            "14836/14836 [==============================] - 40s 3ms/step - loss: 0.6611 - accuracy: 0.6072 - val_loss: 0.6748 - val_accuracy: 0.6117\n",
            "Epoch 42/125\n",
            "14836/14836 [==============================] - 40s 3ms/step - loss: 0.6612 - accuracy: 0.6083 - val_loss: 0.6772 - val_accuracy: 0.6174\n",
            "Epoch 43/125\n",
            "14836/14836 [==============================] - 40s 3ms/step - loss: 0.6606 - accuracy: 0.6059 - val_loss: 0.6795 - val_accuracy: 0.6095\n",
            "Epoch 44/125\n",
            "14836/14836 [==============================] - 40s 3ms/step - loss: 0.6606 - accuracy: 0.6077 - val_loss: 0.6731 - val_accuracy: 0.6013\n",
            "Epoch 45/125\n",
            "14836/14836 [==============================] - 40s 3ms/step - loss: 0.6598 - accuracy: 0.6092 - val_loss: 0.6820 - val_accuracy: 0.6082\n",
            "Epoch 46/125\n",
            "14836/14836 [==============================] - 40s 3ms/step - loss: 0.6596 - accuracy: 0.6049 - val_loss: 0.7011 - val_accuracy: 0.5809\n",
            "Epoch 47/125\n",
            "14836/14836 [==============================] - 40s 3ms/step - loss: 0.6581 - accuracy: 0.6133 - val_loss: 0.6874 - val_accuracy: 0.5645\n",
            "Epoch 48/125\n",
            "14836/14836 [==============================] - 40s 3ms/step - loss: 0.6579 - accuracy: 0.6124 - val_loss: 0.7040 - val_accuracy: 0.5957\n",
            "Epoch 49/125\n",
            "14836/14836 [==============================] - 40s 3ms/step - loss: 0.6579 - accuracy: 0.6107 - val_loss: 0.6804 - val_accuracy: 0.6158\n",
            "Epoch 50/125\n",
            "14836/14836 [==============================] - 40s 3ms/step - loss: 0.6561 - accuracy: 0.6145 - val_loss: 0.6732 - val_accuracy: 0.6246\n",
            "Epoch 51/125\n",
            "14836/14836 [==============================] - 40s 3ms/step - loss: 0.6554 - accuracy: 0.6145 - val_loss: 0.6749 - val_accuracy: 0.6098\n",
            "Epoch 52/125\n",
            "14836/14836 [==============================] - 40s 3ms/step - loss: 0.6551 - accuracy: 0.6165 - val_loss: 0.6792 - val_accuracy: 0.6205\n",
            "Epoch 53/125\n",
            "14836/14836 [==============================] - 40s 3ms/step - loss: 0.6545 - accuracy: 0.6142 - val_loss: 0.6755 - val_accuracy: 0.6174\n",
            "Epoch 54/125\n",
            "14836/14836 [==============================] - 40s 3ms/step - loss: 0.6544 - accuracy: 0.6137 - val_loss: 0.6736 - val_accuracy: 0.6227\n",
            "Epoch 55/125\n",
            "14836/14836 [==============================] - 40s 3ms/step - loss: 0.6543 - accuracy: 0.6165 - val_loss: 0.6735 - val_accuracy: 0.6240\n",
            "Epoch 56/125\n",
            "14836/14836 [==============================] - 40s 3ms/step - loss: 0.6546 - accuracy: 0.6182 - val_loss: 0.6736 - val_accuracy: 0.6303\n",
            "Epoch 57/125\n",
            "14836/14836 [==============================] - 40s 3ms/step - loss: 0.6545 - accuracy: 0.6145 - val_loss: 0.6729 - val_accuracy: 0.6274\n",
            "Epoch 58/125\n",
            "14836/14836 [==============================] - 40s 3ms/step - loss: 0.6534 - accuracy: 0.6167 - val_loss: 0.6743 - val_accuracy: 0.6284\n",
            "Epoch 59/125\n",
            "14836/14836 [==============================] - 40s 3ms/step - loss: 0.6540 - accuracy: 0.6163 - val_loss: 0.6721 - val_accuracy: 0.6287\n",
            "Epoch 60/125\n",
            "14836/14836 [==============================] - 40s 3ms/step - loss: 0.6532 - accuracy: 0.6167 - val_loss: 0.6705 - val_accuracy: 0.6290\n",
            "Epoch 61/125\n",
            "14836/14836 [==============================] - 40s 3ms/step - loss: 0.6542 - accuracy: 0.6159 - val_loss: 0.6710 - val_accuracy: 0.6233\n",
            "Epoch 62/125\n",
            "14836/14836 [==============================] - 40s 3ms/step - loss: 0.6534 - accuracy: 0.6167 - val_loss: 0.6710 - val_accuracy: 0.6252\n",
            "Epoch 63/125\n",
            "14836/14836 [==============================] - 40s 3ms/step - loss: 0.6533 - accuracy: 0.6135 - val_loss: 0.6714 - val_accuracy: 0.6243\n",
            "Epoch 64/125\n",
            "14836/14836 [==============================] - 40s 3ms/step - loss: 0.6535 - accuracy: 0.6165 - val_loss: 0.6754 - val_accuracy: 0.6284\n",
            "Epoch 65/125\n",
            "14836/14836 [==============================] - 40s 3ms/step - loss: 0.6538 - accuracy: 0.6169 - val_loss: 0.6691 - val_accuracy: 0.6300\n",
            "Epoch 66/125\n",
            "14836/14836 [==============================] - 40s 3ms/step - loss: 0.6530 - accuracy: 0.6153 - val_loss: 0.6682 - val_accuracy: 0.6271\n",
            "Epoch 67/125\n",
            "14836/14836 [==============================] - 40s 3ms/step - loss: 0.6530 - accuracy: 0.6185 - val_loss: 0.6699 - val_accuracy: 0.6296\n",
            "Epoch 68/125\n",
            "14836/14836 [==============================] - 40s 3ms/step - loss: 0.6527 - accuracy: 0.6133 - val_loss: 0.6687 - val_accuracy: 0.6237\n",
            "Epoch 69/125\n",
            "14836/14836 [==============================] - 40s 3ms/step - loss: 0.6526 - accuracy: 0.6151 - val_loss: 0.6724 - val_accuracy: 0.6237\n",
            "Epoch 70/125\n",
            "14836/14836 [==============================] - 40s 3ms/step - loss: 0.6524 - accuracy: 0.6149 - val_loss: 0.6706 - val_accuracy: 0.6262\n",
            "Epoch 71/125\n",
            "14836/14836 [==============================] - 40s 3ms/step - loss: 0.6528 - accuracy: 0.6172 - val_loss: 0.6732 - val_accuracy: 0.6215\n",
            "Epoch 72/125\n",
            "14836/14836 [==============================] - 40s 3ms/step - loss: 0.6530 - accuracy: 0.6177 - val_loss: 0.6699 - val_accuracy: 0.6290\n",
            "Epoch 73/125\n",
            "14836/14836 [==============================] - 40s 3ms/step - loss: 0.6525 - accuracy: 0.6176 - val_loss: 0.6697 - val_accuracy: 0.6306\n",
            "Epoch 74/125\n",
            "14836/14836 [==============================] - 40s 3ms/step - loss: 0.6526 - accuracy: 0.6181 - val_loss: 0.6683 - val_accuracy: 0.6296\n",
            "Epoch 75/125\n",
            "14836/14836 [==============================] - 40s 3ms/step - loss: 0.6524 - accuracy: 0.6182 - val_loss: 0.6701 - val_accuracy: 0.6271\n",
            "Epoch 76/125\n",
            "14836/14836 [==============================] - 40s 3ms/step - loss: 0.6522 - accuracy: 0.6166 - val_loss: 0.6698 - val_accuracy: 0.6284\n",
            "Epoch 77/125\n",
            "14836/14836 [==============================] - 40s 3ms/step - loss: 0.6518 - accuracy: 0.6204 - val_loss: 0.6696 - val_accuracy: 0.6290\n",
            "Epoch 78/125\n",
            "14836/14836 [==============================] - 40s 3ms/step - loss: 0.6522 - accuracy: 0.6164 - val_loss: 0.6694 - val_accuracy: 0.6290\n",
            "Epoch 79/125\n",
            "14836/14836 [==============================] - 40s 3ms/step - loss: 0.6530 - accuracy: 0.6157 - val_loss: 0.6701 - val_accuracy: 0.6293\n",
            "Epoch 80/125\n",
            "14836/14836 [==============================] - 40s 3ms/step - loss: 0.6531 - accuracy: 0.6186 - val_loss: 0.6692 - val_accuracy: 0.6274\n",
            "Epoch 81/125\n",
            "14836/14836 [==============================] - 40s 3ms/step - loss: 0.6535 - accuracy: 0.6134 - val_loss: 0.6698 - val_accuracy: 0.6296\n",
            "Epoch 82/125\n",
            "14836/14836 [==============================] - 40s 3ms/step - loss: 0.6511 - accuracy: 0.6166 - val_loss: 0.6701 - val_accuracy: 0.6293\n",
            "Epoch 83/125\n",
            "14836/14836 [==============================] - 40s 3ms/step - loss: 0.6520 - accuracy: 0.6182 - val_loss: 0.6698 - val_accuracy: 0.6312\n",
            "Epoch 84/125\n",
            "14836/14836 [==============================] - 40s 3ms/step - loss: 0.6525 - accuracy: 0.6154 - val_loss: 0.6697 - val_accuracy: 0.6293\n",
            "Epoch 85/125\n",
            "14836/14836 [==============================] - 40s 3ms/step - loss: 0.6521 - accuracy: 0.6195 - val_loss: 0.6700 - val_accuracy: 0.6309\n",
            "Epoch 86/125\n",
            "14836/14836 [==============================] - 40s 3ms/step - loss: 0.6525 - accuracy: 0.6198 - val_loss: 0.6690 - val_accuracy: 0.6281\n",
            "Epoch 87/125\n",
            "14836/14836 [==============================] - 40s 3ms/step - loss: 0.6524 - accuracy: 0.6165 - val_loss: 0.6695 - val_accuracy: 0.6290\n",
            "Epoch 88/125\n",
            "14836/14836 [==============================] - 40s 3ms/step - loss: 0.6529 - accuracy: 0.6169 - val_loss: 0.6696 - val_accuracy: 0.6309\n",
            "Epoch 89/125\n",
            "14836/14836 [==============================] - 40s 3ms/step - loss: 0.6531 - accuracy: 0.6173 - val_loss: 0.6695 - val_accuracy: 0.6287\n",
            "Epoch 90/125\n",
            "14836/14836 [==============================] - 40s 3ms/step - loss: 0.6524 - accuracy: 0.6163 - val_loss: 0.6689 - val_accuracy: 0.6303\n",
            "Epoch 91/125\n",
            "14836/14836 [==============================] - 40s 3ms/step - loss: 0.6522 - accuracy: 0.6173 - val_loss: 0.6694 - val_accuracy: 0.6290\n",
            "Epoch 92/125\n",
            "14836/14836 [==============================] - 40s 3ms/step - loss: 0.6510 - accuracy: 0.6176 - val_loss: 0.6691 - val_accuracy: 0.6290\n",
            "Epoch 93/125\n",
            "14836/14836 [==============================] - 40s 3ms/step - loss: 0.6518 - accuracy: 0.6180 - val_loss: 0.6695 - val_accuracy: 0.6265\n",
            "Epoch 94/125\n",
            "14836/14836 [==============================] - 40s 3ms/step - loss: 0.6518 - accuracy: 0.6196 - val_loss: 0.6694 - val_accuracy: 0.6290\n",
            "Epoch 95/125\n",
            "14836/14836 [==============================] - 40s 3ms/step - loss: 0.6525 - accuracy: 0.6175 - val_loss: 0.6699 - val_accuracy: 0.6290\n",
            "Epoch 96/125\n",
            "14836/14836 [==============================] - 40s 3ms/step - loss: 0.6525 - accuracy: 0.6162 - val_loss: 0.6696 - val_accuracy: 0.6303\n",
            "Epoch 97/125\n",
            "14836/14836 [==============================] - 40s 3ms/step - loss: 0.6513 - accuracy: 0.6194 - val_loss: 0.6697 - val_accuracy: 0.6284\n",
            "Epoch 98/125\n",
            "14836/14836 [==============================] - 40s 3ms/step - loss: 0.6526 - accuracy: 0.6149 - val_loss: 0.6693 - val_accuracy: 0.6296\n",
            "Epoch 99/125\n",
            "14836/14836 [==============================] - 40s 3ms/step - loss: 0.6530 - accuracy: 0.6162 - val_loss: 0.6690 - val_accuracy: 0.6290\n",
            "Epoch 100/125\n",
            "14836/14836 [==============================] - 40s 3ms/step - loss: 0.6520 - accuracy: 0.6187 - val_loss: 0.6689 - val_accuracy: 0.6300\n",
            "Epoch 101/125\n",
            "14836/14836 [==============================] - 40s 3ms/step - loss: 0.6521 - accuracy: 0.6198 - val_loss: 0.6831 - val_accuracy: 0.6001\n",
            "Epoch 102/125\n",
            "14836/14836 [==============================] - 40s 3ms/step - loss: 0.6515 - accuracy: 0.6198 - val_loss: 0.6684 - val_accuracy: 0.6287\n",
            "Epoch 103/125\n",
            "14836/14836 [==============================] - 40s 3ms/step - loss: 0.6518 - accuracy: 0.6171 - val_loss: 0.6680 - val_accuracy: 0.6296\n",
            "Epoch 104/125\n",
            "14836/14836 [==============================] - 40s 3ms/step - loss: 0.6516 - accuracy: 0.6178 - val_loss: 0.6682 - val_accuracy: 0.6287\n",
            "Epoch 105/125\n",
            "14836/14836 [==============================] - 40s 3ms/step - loss: 0.6512 - accuracy: 0.6189 - val_loss: 0.6686 - val_accuracy: 0.6290\n",
            "Epoch 106/125\n",
            "14836/14836 [==============================] - 40s 3ms/step - loss: 0.6515 - accuracy: 0.6179 - val_loss: 0.6690 - val_accuracy: 0.6309\n",
            "Epoch 107/125\n",
            "14836/14836 [==============================] - 40s 3ms/step - loss: 0.6519 - accuracy: 0.6176 - val_loss: 0.6692 - val_accuracy: 0.6309\n",
            "Epoch 108/125\n",
            "14836/14836 [==============================] - 40s 3ms/step - loss: 0.6516 - accuracy: 0.6203 - val_loss: 0.6686 - val_accuracy: 0.6296\n",
            "Epoch 109/125\n",
            "14836/14836 [==============================] - 40s 3ms/step - loss: 0.6514 - accuracy: 0.6180 - val_loss: 0.6701 - val_accuracy: 0.6243\n",
            "Epoch 110/125\n",
            "14836/14836 [==============================] - 40s 3ms/step - loss: 0.6515 - accuracy: 0.6186 - val_loss: 0.6687 - val_accuracy: 0.6306\n",
            "Epoch 111/125\n",
            "14836/14836 [==============================] - 40s 3ms/step - loss: 0.6522 - accuracy: 0.6182 - val_loss: 0.6686 - val_accuracy: 0.6309\n",
            "Epoch 112/125\n",
            "14836/14836 [==============================] - 40s 3ms/step - loss: 0.6511 - accuracy: 0.6178 - val_loss: 0.6689 - val_accuracy: 0.6303\n",
            "Epoch 113/125\n",
            "14836/14836 [==============================] - 40s 3ms/step - loss: 0.6501 - accuracy: 0.6194 - val_loss: 0.6713 - val_accuracy: 0.6309\n",
            "Epoch 114/125\n",
            "14836/14836 [==============================] - 40s 3ms/step - loss: 0.6512 - accuracy: 0.6182 - val_loss: 0.6686 - val_accuracy: 0.6278\n",
            "Epoch 115/125\n",
            "14836/14836 [==============================] - 40s 3ms/step - loss: 0.6513 - accuracy: 0.6168 - val_loss: 0.6685 - val_accuracy: 0.6296\n",
            "Epoch 116/125\n",
            "14836/14836 [==============================] - 40s 3ms/step - loss: 0.6513 - accuracy: 0.6181 - val_loss: 0.6689 - val_accuracy: 0.6293\n",
            "Epoch 117/125\n",
            "14836/14836 [==============================] - 40s 3ms/step - loss: 0.6508 - accuracy: 0.6170 - val_loss: 0.6689 - val_accuracy: 0.6296\n",
            "Epoch 118/125\n",
            "14836/14836 [==============================] - 40s 3ms/step - loss: 0.6516 - accuracy: 0.6156 - val_loss: 0.6689 - val_accuracy: 0.6290\n",
            "Epoch 119/125\n",
            "14836/14836 [==============================] - 40s 3ms/step - loss: 0.6521 - accuracy: 0.6169 - val_loss: 0.6688 - val_accuracy: 0.6300\n",
            "Epoch 120/125\n",
            "14836/14836 [==============================] - 40s 3ms/step - loss: 0.6511 - accuracy: 0.6189 - val_loss: 0.6693 - val_accuracy: 0.6312\n",
            "Epoch 121/125\n",
            "14836/14836 [==============================] - 40s 3ms/step - loss: 0.6519 - accuracy: 0.6198 - val_loss: 0.6689 - val_accuracy: 0.6290\n",
            "Epoch 122/125\n",
            "14836/14836 [==============================] - 40s 3ms/step - loss: 0.6521 - accuracy: 0.6194 - val_loss: 0.6689 - val_accuracy: 0.6303\n",
            "Epoch 123/125\n",
            "14836/14836 [==============================] - 40s 3ms/step - loss: 0.6519 - accuracy: 0.6188 - val_loss: 0.6693 - val_accuracy: 0.6293\n",
            "Epoch 124/125\n",
            "14836/14836 [==============================] - 40s 3ms/step - loss: 0.6527 - accuracy: 0.6165 - val_loss: 0.6690 - val_accuracy: 0.6287\n",
            "Epoch 125/125\n",
            "14836/14836 [==============================] - 40s 3ms/step - loss: 0.6516 - accuracy: 0.6173 - val_loss: 0.6690 - val_accuracy: 0.6290\n"
          ],
          "name": "stdout"
        }
      ]
    },
    {
      "cell_type": "code",
      "metadata": {
        "id": "zvR8Sonm1ew9",
        "colab_type": "code",
        "outputId": "9c06a060-5074-4287-f7d4-0c20d99eb44a",
        "colab": {
          "base_uri": "https://localhost:8080/",
          "height": 513
        }
      },
      "source": [
        "# plot loss and accuracy curve\n",
        "fig, ax = plt.subplots(1,2, figsize=(20,8))\n",
        "ax[0].plot(history.history['loss'], color='b', label=\"Training\")\n",
        "ax[0].plot(history.history['val_loss'], color='r', label=\"Validation\",axes =ax[0])\n",
        "ax[0].set_ylabel(\"Loss\")\n",
        "ax[0].set_xlabel(\"Epoch\")\n",
        "ax[0].set_title(\"VGGNet Loss Over Epochs\")\n",
        "legend = ax[0].legend(loc='best', shadow=True)\n",
        "\n",
        "ax[1].plot(history.history['accuracy'], color='b', label=\"Training\")\n",
        "ax[1].plot(history.history['val_accuracy'], color='r',label=\"Validation\")\n",
        "ax[1].set_ylabel(\"Accuracy\")\n",
        "ax[1].set_xlabel(\"Epoch\")\n",
        "ax[1].set_title(\"VGGNet Accuracy Over Epochs\")\n",
        "legend = ax[1].legend(loc='best', shadow=True)"
      ],
      "execution_count": 0,
      "outputs": [
        {
          "output_type": "display_data",
          "data": {
            "image/png": "[encoded data removed]",
            "text/plain": [
              "<Figure size 1440x576 with 2 Axes>"
            ]
          },
          "metadata": {
            "tags": [],
            "needs_background": "light"
          }
        }
      ]
    },
    {
      "cell_type": "code",
      "metadata": {
        "id": "lC10HbGt68F3",
        "colab_type": "code",
        "outputId": "3f11ff0b-0d77-460e-c7ad-13b38acb3eb8",
        "colab": {
          "base_uri": "https://localhost:8080/",
          "height": 391
        }
      },
      "source": [
        "'''\n",
        "ResNet\n",
        "'''\n",
        "\n",
        "from keras.applications.resnet50 import ResNet50\n",
        "from keras.layers import GlobalAveragePooling2D\n",
        "from keras import regularizers\n",
        "\n",
        "model_type = 'ResNet50'\n",
        "model_save_dir = os.path.join(os.getcwd(), 'saved_models')\n",
        "model_name = '%s_model.{epoch:03d}.h5' % model_type\n",
        "if not os.path.isdir(model_save_dir):\n",
        "    os.makedirs(model_save_dir)\n",
        "filepath = os.path.join(model_save_dir, model_name)\n",
        "\n",
        "# Prepare callbacks for model saving and for learning rate adjustment.\n",
        "checkpoint = ModelCheckpoint(filepath=filepath,\n",
        "                             monitor='val_acc',\n",
        "                             verbose=1,\n",
        "                             save_best_only=True)\n",
        "\n",
        "lr_reducer = ReduceLROnPlateau(factor=np.sqrt(0.1),\n",
        "                               cooldown=0,\n",
        "                               patience=5,\n",
        "                               min_lr=0.5e-6)\n",
        "\n",
        "callbacks = [checkpoint, lr_reducer]\n",
        "\n",
        "width = 128\n",
        "height = 128\n",
        "\n",
        "# load model\n",
        "model = Sequential()\n",
        "resnet_model = ResNet50(weights='imagenet', include_top=False, input_shape=(width, height, 3))\n",
        "\n",
        "for layer in resnet_model.layers:\n",
        "    layer.trainable = False\n",
        "\n",
        "for layer in resnet_model.layers[20:]:\n",
        "    layer.trainable = True\n",
        "\n",
        "model.add(resnet_model)\n",
        "model.add(GlobalAveragePooling2D())\n",
        "\n",
        "model.add(Dense(128, activation='relu', kernel_regularizer=keras.regularizers.l2(0.01)))\n",
        "model.add(BatchNormalization())\n",
        "\n",
        "model.add(Dense(2, activation='softmax'))\n",
        "\n",
        "# compile model\n",
        "model.compile(loss='categorical_crossentropy',\n",
        "              optimizer=Adam(0.001),\n",
        "              metrics=['accuracy'])\n",
        "\n",
        "model.summary()"
      ],
      "execution_count": 0,
      "outputs": [
        {
          "output_type": "stream",
          "text": [
            "/usr/local/lib/python3.6/dist-packages/keras_applications/resnet50.py:265: UserWarning: The output shape of `ResNet50(include_top=False)` has been changed since Keras 2.2.0.\n",
            "  warnings.warn('The output shape of `ResNet50(include_top=False)` '\n"
          ],
          "name": "stderr"
        },
        {
          "output_type": "stream",
          "text": [
            "Downloading data from https://github.com/fchollet/deep-learning-models/releases/download/v0.2/resnet50_weights_tf_dim_ordering_tf_kernels_notop.h5\n",
            "94658560/94653016 [==============================] - 1s 0us/step\n",
            "Model: \"sequential_2\"\n",
            "_________________________________________________________________\n",
            "Layer (type)                 Output Shape              Param #   \n",
            "=================================================================\n",
            "resnet50 (Model)             (None, 4, 4, 2048)        23587712  \n",
            "_________________________________________________________________\n",
            "global_average_pooling2d_2 ( (None, 2048)              0         \n",
            "_________________________________________________________________\n",
            "dense_3 (Dense)              (None, 128)               262272    \n",
            "_________________________________________________________________\n",
            "batch_normalization_2 (Batch (None, 128)               512       \n",
            "_________________________________________________________________\n",
            "dense_4 (Dense)              (None, 2)                 258       \n",
            "=================================================================\n",
            "Total params: 23,850,754\n",
            "Trainable params: 23,695,682\n",
            "Non-trainable params: 155,072\n",
            "_________________________________________________________________\n"
          ],
          "name": "stdout"
        }
      ]
    },
    {
      "cell_type": "code",
      "metadata": {
        "id": "eiNigwfM68Im",
        "colab_type": "code",
        "outputId": "9269230d-c1f8-486f-e0cd-bb4a96c20c1a",
        "colab": {
          "base_uri": "https://localhost:8080/",
          "height": 938
        }
      },
      "source": [
        "# fit model\n",
        "n_samples = X_train.shape[0]\n",
        "batch_size = 32\n",
        "epochs = 25\n",
        "history = model.fit(X_train[:n_samples], Y_train[:n_samples],\n",
        "              batch_size=batch_size,\n",
        "              epochs=epochs,\n",
        "              validation_data=(X_validation, Y_validation),\n",
        "              shuffle=True,\n",
        "              verbose=1,\n",
        "              callbacks=callbacks)"
      ],
      "execution_count": 0,
      "outputs": [
        {
          "output_type": "stream",
          "text": [
            "Train on 14836 samples, validate on 3178 samples\n",
            "Epoch 1/25\n",
            "14836/14836 [==============================] - 84s 6ms/step - loss: 1.3489 - accuracy: 0.5333 - val_loss: 0.7583 - val_accuracy: 0.5000\n",
            "Epoch 2/25\n",
            "   32/14836 [..............................] - ETA: 1:03 - loss: 0.8025 - accuracy: 0.3438"
          ],
          "name": "stdout"
        },
        {
          "output_type": "stream",
          "text": [
            "/usr/local/lib/python3.6/dist-packages/keras/callbacks/callbacks.py:707: RuntimeWarning: Can save best model only with val_acc available, skipping.\n",
            "  'skipping.' % (self.monitor), RuntimeWarning)\n"
          ],
          "name": "stderr"
        },
        {
          "output_type": "stream",
          "text": [
            "14836/14836 [==============================] - 69s 5ms/step - loss: 0.7259 - accuracy: 0.5483 - val_loss: 0.7207 - val_accuracy: 0.5000\n",
            "Epoch 3/25\n",
            "14836/14836 [==============================] - 69s 5ms/step - loss: 0.7153 - accuracy: 0.5551 - val_loss: 0.7301 - val_accuracy: 0.5000\n",
            "Epoch 4/25\n",
            "14836/14836 [==============================] - 69s 5ms/step - loss: 0.7138 - accuracy: 0.5610 - val_loss: 82.9460 - val_accuracy: 0.5000\n",
            "Epoch 5/25\n",
            "14836/14836 [==============================] - 69s 5ms/step - loss: 0.7061 - accuracy: 0.5609 - val_loss: 0.7592 - val_accuracy: 0.5000\n",
            "Epoch 6/25\n",
            "14836/14836 [==============================] - 69s 5ms/step - loss: 0.7277 - accuracy: 0.5621 - val_loss: 0.7224 - val_accuracy: 0.5000\n",
            "Epoch 7/25\n",
            "14836/14836 [==============================] - 69s 5ms/step - loss: 0.7155 - accuracy: 0.5522 - val_loss: 0.7119 - val_accuracy: 0.5000\n",
            "Epoch 8/25\n",
            "14836/14836 [==============================] - 69s 5ms/step - loss: 0.6976 - accuracy: 0.5600 - val_loss: 0.7145 - val_accuracy: 0.5000\n",
            "Epoch 9/25\n",
            "14836/14836 [==============================] - 69s 5ms/step - loss: 0.7045 - accuracy: 0.5655 - val_loss: 0.7090 - val_accuracy: 0.5000\n",
            "Epoch 10/25\n",
            "14836/14836 [==============================] - 69s 5ms/step - loss: 0.6912 - accuracy: 0.5719 - val_loss: 0.7053 - val_accuracy: 0.5000\n",
            "Epoch 11/25\n",
            "14836/14836 [==============================] - 69s 5ms/step - loss: 0.6876 - accuracy: 0.5740 - val_loss: 0.6993 - val_accuracy: 0.5217\n",
            "Epoch 12/25\n",
            "14836/14836 [==============================] - 69s 5ms/step - loss: 0.6841 - accuracy: 0.5797 - val_loss: 0.7071 - val_accuracy: 0.5000\n",
            "Epoch 13/25\n",
            "14836/14836 [==============================] - 69s 5ms/step - loss: 0.6780 - accuracy: 0.5818 - val_loss: 0.6959 - val_accuracy: 0.4849\n",
            "Epoch 14/25\n",
            "14836/14836 [==============================] - 68s 5ms/step - loss: 0.6708 - accuracy: 0.5898 - val_loss: 0.7255 - val_accuracy: 0.5000\n",
            "Epoch 15/25\n",
            "14836/14836 [==============================] - 69s 5ms/step - loss: 0.6803 - accuracy: 0.5944 - val_loss: 0.7123 - val_accuracy: 0.5000\n",
            "Epoch 16/25\n",
            "14836/14836 [==============================] - 69s 5ms/step - loss: 0.6714 - accuracy: 0.5968 - val_loss: 0.7329 - val_accuracy: 0.5000\n",
            "Epoch 17/25\n",
            "14836/14836 [==============================] - 69s 5ms/step - loss: 0.6659 - accuracy: 0.6041 - val_loss: 0.7088 - val_accuracy: 0.5000\n",
            "Epoch 18/25\n",
            "14836/14836 [==============================] - 69s 5ms/step - loss: 0.6625 - accuracy: 0.6089 - val_loss: 0.7258 - val_accuracy: 0.5000\n",
            "Epoch 19/25\n",
            "14836/14836 [==============================] - 69s 5ms/step - loss: 0.6425 - accuracy: 0.6275 - val_loss: 0.7626 - val_accuracy: 0.5000\n",
            "Epoch 20/25\n",
            "14836/14836 [==============================] - 69s 5ms/step - loss: 0.6324 - accuracy: 0.6388 - val_loss: 0.7178 - val_accuracy: 0.5000\n",
            "Epoch 21/25\n",
            "14836/14836 [==============================] - 69s 5ms/step - loss: 0.6309 - accuracy: 0.6459 - val_loss: 0.7105 - val_accuracy: 0.5000\n",
            "Epoch 22/25\n",
            "14836/14836 [==============================] - 69s 5ms/step - loss: 0.6240 - accuracy: 0.6532 - val_loss: 0.7577 - val_accuracy: 0.5000\n",
            "Epoch 23/25\n",
            "14836/14836 [==============================] - 69s 5ms/step - loss: 0.6178 - accuracy: 0.6570 - val_loss: 0.8070 - val_accuracy: 0.5000\n",
            "Epoch 24/25\n",
            "14836/14836 [==============================] - 69s 5ms/step - loss: 0.5958 - accuracy: 0.6781 - val_loss: 0.8447 - val_accuracy: 0.5000\n",
            "Epoch 25/25\n",
            "14836/14836 [==============================] - 69s 5ms/step - loss: 0.5796 - accuracy: 0.6914 - val_loss: 0.9408 - val_accuracy: 0.5000\n"
          ],
          "name": "stdout"
        }
      ]
    },
    {
      "cell_type": "code",
      "metadata": {
        "id": "00oNPwPZxnET",
        "colab_type": "code",
        "outputId": "b902d087-21e4-4fd9-a83d-46aff32ae1b7",
        "colab": {
          "base_uri": "https://localhost:8080/",
          "height": 350
        }
      },
      "source": [
        "# plot loss and accuracy curve\n",
        "fig, ax = plt.subplots(1,2, figsize=(15,5))\n",
        "ax[0].plot(history.history['loss'], color='b', label=\"Training\")\n",
        "ax[0].plot(history.history['val_loss'], color='r', label=\"Validation\",axes =ax[0])\n",
        "ax[0].set_ylabel(\"Loss\")\n",
        "ax[0].set_xlabel(\"Epoch\")\n",
        "ax[0].set_title(\"VGGNet Loss Over Epochs\")\n",
        "legend = ax[0].legend(loc='best', shadow=True)\n",
        "\n",
        "ax[1].plot(history.history['accuracy'], color='b', label=\"Training\")\n",
        "ax[1].plot(history.history['val_accuracy'], color='r',label=\"Validation\")\n",
        "ax[1].set_ylabel(\"Accuracy\")\n",
        "ax[1].set_xlabel(\"Epoch\")\n",
        "ax[1].set_title(\"VGGNet Accuracy Over Epochs\")\n",
        "legend = ax[1].legend(loc='best', shadow=True)"
      ],
      "execution_count": 0,
      "outputs": [
        {
          "output_type": "display_data",
          "data": {
            "image/png": "[encoded data removed]",
            "text/plain": [
              "<Figure size 1080x360 with 2 Axes>"
            ]
          },
          "metadata": {
            "tags": [],
            "needs_background": "light"
          }
        }
      ]
    },
    {
      "cell_type": "code",
      "metadata": {
        "id": "l1Hbw3OZxaHU",
        "colab_type": "code",
        "colab": {}
      },
      "source": [
        "def plot_confusion_matrix(y_true, y_pred, normalize=False):\n",
        "    \"\"\"\n",
        "    Input:\n",
        "        y_true    : array of true binary labels. Eg: [0, 1, 0, 0, 1].\n",
        "        y_pred    : array of predicted probabilities. Eg: [0.05, 0.55, 0.2, 0.8, 0.95].\n",
        "        normalize : whether to show counts of proportion in a cell\n",
        "    \n",
        "    Output:\n",
        "        confusion matrix\n",
        "    \"\"\"\n",
        "    cm = metrics.confusion_matrix(y_true, y_pred)\n",
        "    \n",
        "    plt.imshow(cm, interpolation='nearest', cmap=plt.cm.Blues)\n",
        "    plt.title('Confusion Matrix')\n",
        "    #plt.colorbar()\n",
        "    classes = np.unique(y_true)\n",
        "    tick_marks = np.arange(len(classes))\n",
        "    plt.xticks(tick_marks, classes, rotation=45)\n",
        "    plt.yticks(tick_marks, classes)\n",
        "\n",
        "    if(normalize):\n",
        "        precision=4\n",
        "        cm = np.round(cm.astype('float') / cm.sum(axis=1)[:, np.newaxis], precision)\n",
        "\n",
        "    thresh = cm.max() / 2.\n",
        "    for i, j in itertools.product(range(cm.shape[0]), range(cm.shape[1])):\n",
        "        plt.text(j, i, cm[i, j],\n",
        "                 horizontalalignment=\"center\",\n",
        "                 color=\"white\" if cm[i, j] > thresh else \"black\")\n",
        "\n",
        "    plt.tight_layout()\n",
        "    plt.ylabel('True label')\n",
        "    plt.xlabel('Predicted label')\n",
        "    pass"
      ],
      "execution_count": 0,
      "outputs": []
    },
    {
      "cell_type": "code",
      "metadata": {
        "id": "S-AFOE167OVG",
        "colab_type": "code",
        "colab": {}
      },
      "source": [
        "# train on full training set\n",
        "X = np.concatenate((X_train, X_validation), axis=0)\n",
        "Y = np.concatenate((Y_train, Y_validation), axis=0)\n",
        "\n",
        "# load model\n",
        "model = Sequential()\n",
        "resnet_model = ResNet50(weights='imagenet', include_top=False, input_shape=(width, height, 3))\n",
        "\n",
        "for layer in resnet_model.layers:\n",
        "    layer.trainable = False\n",
        "\n",
        "for layer in resnet_model.layers[20:]:\n",
        "    layer.trainable = True\n",
        "\n",
        "model.add(resnet_model)\n",
        "model.add(GlobalAveragePooling2D())\n",
        "\n",
        "model.add(Dense(128, activation='relu', kernel_regularizer=keras.regularizers.l2(0.01)))\n",
        "model.add(BatchNormalization())\n",
        "\n",
        "model.add(Dense(2, activation='softmax'))\n",
        "\n",
        "# compile model\n",
        "model.compile(loss='categorical_crossentropy',\n",
        "              optimizer=Adam(0.001),\n",
        "              metrics=['accuracy'])\n",
        "\n",
        "# fit model\n",
        "n_samples = X_train.shape[0]\n",
        "batch_size = 32\n",
        "epochs = 25\n",
        "history = model.fit(X_train[:n_samples], Y_train[:n_samples],\n",
        "              batch_size=batch_size,\n",
        "              epochs=epochs,\n",
        "              validation_data=(X_validation, Y_validation),\n",
        "              shuffle=True,\n",
        "              verbose=1,\n",
        "              callbacks=callbacks)"
      ],
      "execution_count": 0,
      "outputs": []
    },
    {
      "cell_type": "code",
      "metadata": {
        "id": "1M5j8uIc1lsi",
        "colab_type": "code",
        "colab": {}
      },
      "source": [
        "# make predictions on test set\n",
        "y_pred = model.predict(X_test)"
      ],
      "execution_count": 0,
      "outputs": []
    },
    {
      "cell_type": "code",
      "metadata": {
        "id": "hn3c42ZX2xM6",
        "colab_type": "code",
        "outputId": "9535837e-6307-4cc6-8fb1-bf336577c361",
        "colab": {
          "base_uri": "https://localhost:8080/",
          "height": 34
        }
      },
      "source": [
        "file_names = pd.read_csv(\"/content/drive/My Drive/fake-or-not/data/dataset_correct.csv\")\n",
        "path = file_names[['file_name']]\n",
        "path = path[-3178:]\n",
        "path.columns = ['path']"
      ],
      "execution_count": 0,
      "outputs": [
        {
          "output_type": "execute_result",
          "data": {
            "text/plain": [
              "(3178, 1)"
            ]
          },
          "metadata": {
            "tags": []
          },
          "execution_count": 64
        }
      ]
    },
    {
      "cell_type": "code",
      "metadata": {
        "id": "iDyAq38HDLvS",
        "colab_type": "code",
        "colab": {}
      },
      "source": [
        "label_0 = list(y_pred[:,0])\n",
        "label_1 = list(y_pred[:,1])\n",
        "\n",
        "df_output = pd.DataFrame({'path': path.values.ravel().tolist(), 'label_0': label_0, 'label_1': label_1})\n",
        "df_output.to_csv(\"/content/drive/My Drive/fake-or-not/Result/output_vggnet16.csv\")"
      ],
      "execution_count": 0,
      "outputs": []
    },
    {
      "cell_type": "code",
      "metadata": {
        "id": "UvxzOxTXK0Pt",
        "colab_type": "code",
        "outputId": "e804dcba-c3bd-4660-fecd-458273e6add0",
        "colab": {
          "base_uri": "https://localhost:8080/",
          "height": 311
        }
      },
      "source": [
        "y_pred_class = np.round(y_pred[:, 1])\n",
        "y_pred_class = [int(p) for p in y_pred_class]\n",
        "y_test = np.argmax(Y_test, axis=1)\n",
        "y_test = [int(p) for p in y_test]\n",
        "plot_confusion_matrix(y_test, y_pred_class, normalize=True)"
      ],
      "execution_count": 0,
      "outputs": [
        {
          "output_type": "display_data",
          "data": {
            "image/png": "[encoded data removed]",
            "text/plain": [
              "<Figure size 432x288 with 1 Axes>"
            ]
          },
          "metadata": {
            "tags": [],
            "needs_background": "light"
          }
        }
      ]
    }
  ]
}